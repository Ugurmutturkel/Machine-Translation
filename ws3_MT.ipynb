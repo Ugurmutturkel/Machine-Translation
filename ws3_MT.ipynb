{
  "nbformat": 4,
  "nbformat_minor": 0,
  "metadata": {
    "colab": {
      "provenance": []
    },
    "kernelspec": {
      "name": "python3",
      "display_name": "Python 3"
    },
    "language_info": {
      "name": "python"
    }
  },
  "cells": [
    {
      "cell_type": "code",
      "execution_count": null,
      "metadata": {
        "id": "EtCG6oTppiSw",
        "colab": {
          "base_uri": "https://localhost:8080/"
        },
        "outputId": "0defef39-e1ae-420c-b8e5-6fd2c90ca294"
      },
      "outputs": [
        {
          "name": "stdout",
          "output_type": "stream",
          "text": [
            "NLTK Downloader\n",
            "---------------------------------------------------------------------------\n",
            "    d) Download   l) List    u) Update   c) Config   h) Help   q) Quit\n",
            "---------------------------------------------------------------------------\n",
            "Downloader> d\n",
            "\n",
            "Download which package (l=list; x=cancel)?\n",
            "  Identifier> all\n"
          ]
        },
        {
          "output_type": "stream",
          "name": "stderr",
          "text": [
            "    Downloading collection 'all'\n",
            "       | \n",
            "       | Downloading package abc to /root/nltk_data...\n",
            "       |   Unzipping corpora/abc.zip.\n",
            "       | Downloading package alpino to /root/nltk_data...\n",
            "       |   Unzipping corpora/alpino.zip.\n",
            "       | Downloading package averaged_perceptron_tagger to\n",
            "       |     /root/nltk_data...\n",
            "       |   Unzipping taggers/averaged_perceptron_tagger.zip.\n",
            "       | Downloading package averaged_perceptron_tagger_ru to\n",
            "       |     /root/nltk_data...\n",
            "       |   Unzipping taggers/averaged_perceptron_tagger_ru.zip.\n",
            "       | Downloading package basque_grammars to /root/nltk_data...\n",
            "       |   Unzipping grammars/basque_grammars.zip.\n",
            "       | Downloading package bcp47 to /root/nltk_data...\n",
            "       | Downloading package biocreative_ppi to /root/nltk_data...\n",
            "       |   Unzipping corpora/biocreative_ppi.zip.\n",
            "       | Downloading package bllip_wsj_no_aux to /root/nltk_data...\n",
            "       |   Unzipping models/bllip_wsj_no_aux.zip.\n",
            "       | Downloading package book_grammars to /root/nltk_data...\n",
            "       |   Unzipping grammars/book_grammars.zip.\n",
            "       | Downloading package brown to /root/nltk_data...\n",
            "       |   Unzipping corpora/brown.zip.\n",
            "       | Downloading package brown_tei to /root/nltk_data...\n",
            "       |   Unzipping corpora/brown_tei.zip.\n",
            "       | Downloading package cess_cat to /root/nltk_data...\n",
            "       |   Unzipping corpora/cess_cat.zip.\n",
            "       | Downloading package cess_esp to /root/nltk_data...\n",
            "       |   Unzipping corpora/cess_esp.zip.\n",
            "       | Downloading package chat80 to /root/nltk_data...\n",
            "       |   Unzipping corpora/chat80.zip.\n",
            "       | Downloading package city_database to /root/nltk_data...\n",
            "       |   Unzipping corpora/city_database.zip.\n",
            "       | Downloading package cmudict to /root/nltk_data...\n",
            "       |   Unzipping corpora/cmudict.zip.\n",
            "       | Downloading package comparative_sentences to\n",
            "       |     /root/nltk_data...\n",
            "       |   Unzipping corpora/comparative_sentences.zip.\n",
            "       | Downloading package comtrans to /root/nltk_data...\n",
            "       | Downloading package conll2000 to /root/nltk_data...\n",
            "       |   Unzipping corpora/conll2000.zip.\n",
            "       | Downloading package conll2002 to /root/nltk_data...\n",
            "       |   Unzipping corpora/conll2002.zip.\n",
            "       | Downloading package conll2007 to /root/nltk_data...\n",
            "       | Downloading package crubadan to /root/nltk_data...\n",
            "       |   Unzipping corpora/crubadan.zip.\n",
            "       | Downloading package dependency_treebank to /root/nltk_data...\n",
            "       |   Unzipping corpora/dependency_treebank.zip.\n",
            "       | Downloading package dolch to /root/nltk_data...\n",
            "       |   Unzipping corpora/dolch.zip.\n",
            "       | Downloading package europarl_raw to /root/nltk_data...\n",
            "       |   Unzipping corpora/europarl_raw.zip.\n",
            "       | Downloading package extended_omw to /root/nltk_data...\n",
            "       | Downloading package floresta to /root/nltk_data...\n",
            "       |   Unzipping corpora/floresta.zip.\n",
            "       | Downloading package framenet_v15 to /root/nltk_data...\n",
            "       |   Unzipping corpora/framenet_v15.zip.\n",
            "       | Downloading package framenet_v17 to /root/nltk_data...\n",
            "       |   Unzipping corpora/framenet_v17.zip.\n",
            "       | Downloading package gazetteers to /root/nltk_data...\n",
            "       |   Unzipping corpora/gazetteers.zip.\n",
            "       | Downloading package genesis to /root/nltk_data...\n",
            "       |   Unzipping corpora/genesis.zip.\n",
            "       | Downloading package gutenberg to /root/nltk_data...\n",
            "       |   Unzipping corpora/gutenberg.zip.\n",
            "       | Downloading package ieer to /root/nltk_data...\n",
            "       |   Unzipping corpora/ieer.zip.\n",
            "       | Downloading package inaugural to /root/nltk_data...\n",
            "       |   Unzipping corpora/inaugural.zip.\n",
            "       | Downloading package indian to /root/nltk_data...\n",
            "       |   Unzipping corpora/indian.zip.\n",
            "       | Downloading package jeita to /root/nltk_data...\n",
            "       | Downloading package kimmo to /root/nltk_data...\n",
            "       |   Unzipping corpora/kimmo.zip.\n",
            "       | Downloading package knbc to /root/nltk_data...\n",
            "       | Downloading package large_grammars to /root/nltk_data...\n",
            "       |   Unzipping grammars/large_grammars.zip.\n",
            "       | Downloading package lin_thesaurus to /root/nltk_data...\n",
            "       |   Unzipping corpora/lin_thesaurus.zip.\n",
            "       | Downloading package mac_morpho to /root/nltk_data...\n",
            "       |   Unzipping corpora/mac_morpho.zip.\n",
            "       | Downloading package machado to /root/nltk_data...\n",
            "       | Downloading package masc_tagged to /root/nltk_data...\n",
            "       | Downloading package maxent_ne_chunker to /root/nltk_data...\n",
            "       |   Unzipping chunkers/maxent_ne_chunker.zip.\n",
            "       | Downloading package maxent_treebank_pos_tagger to\n",
            "       |     /root/nltk_data...\n",
            "       |   Unzipping taggers/maxent_treebank_pos_tagger.zip.\n",
            "       | Downloading package moses_sample to /root/nltk_data...\n",
            "       |   Unzipping models/moses_sample.zip.\n",
            "       | Downloading package movie_reviews to /root/nltk_data...\n",
            "       |   Unzipping corpora/movie_reviews.zip.\n",
            "       | Downloading package mte_teip5 to /root/nltk_data...\n",
            "       |   Unzipping corpora/mte_teip5.zip.\n",
            "       | Downloading package mwa_ppdb to /root/nltk_data...\n",
            "       |   Unzipping misc/mwa_ppdb.zip.\n",
            "       | Downloading package names to /root/nltk_data...\n",
            "       |   Unzipping corpora/names.zip.\n",
            "       | Downloading package nombank.1.0 to /root/nltk_data...\n",
            "       | Downloading package nonbreaking_prefixes to\n",
            "       |     /root/nltk_data...\n",
            "       |   Unzipping corpora/nonbreaking_prefixes.zip.\n",
            "       | Downloading package nps_chat to /root/nltk_data...\n",
            "       |   Unzipping corpora/nps_chat.zip.\n",
            "       | Downloading package omw to /root/nltk_data...\n",
            "       | Downloading package omw-1.4 to /root/nltk_data...\n",
            "       | Downloading package opinion_lexicon to /root/nltk_data...\n",
            "       |   Unzipping corpora/opinion_lexicon.zip.\n",
            "       | Downloading package panlex_swadesh to /root/nltk_data...\n",
            "       | Downloading package paradigms to /root/nltk_data...\n",
            "       |   Unzipping corpora/paradigms.zip.\n",
            "       | Downloading package pe08 to /root/nltk_data...\n",
            "       |   Unzipping corpora/pe08.zip.\n",
            "       | Downloading package perluniprops to /root/nltk_data...\n",
            "       |   Unzipping misc/perluniprops.zip.\n",
            "       | Downloading package pil to /root/nltk_data...\n",
            "       |   Unzipping corpora/pil.zip.\n",
            "       | Downloading package pl196x to /root/nltk_data...\n",
            "       |   Unzipping corpora/pl196x.zip.\n",
            "       | Downloading package porter_test to /root/nltk_data...\n",
            "       |   Unzipping stemmers/porter_test.zip.\n",
            "       | Downloading package ppattach to /root/nltk_data...\n",
            "       |   Unzipping corpora/ppattach.zip.\n",
            "       | Downloading package problem_reports to /root/nltk_data...\n",
            "       |   Unzipping corpora/problem_reports.zip.\n",
            "       | Downloading package product_reviews_1 to /root/nltk_data...\n",
            "       |   Unzipping corpora/product_reviews_1.zip.\n",
            "       | Downloading package product_reviews_2 to /root/nltk_data...\n",
            "       |   Unzipping corpora/product_reviews_2.zip.\n",
            "       | Downloading package propbank to /root/nltk_data...\n",
            "       | Downloading package pros_cons to /root/nltk_data...\n",
            "       |   Unzipping corpora/pros_cons.zip.\n",
            "       | Downloading package ptb to /root/nltk_data...\n",
            "       |   Unzipping corpora/ptb.zip.\n",
            "       | Downloading package punkt to /root/nltk_data...\n",
            "       |   Unzipping tokenizers/punkt.zip.\n",
            "       | Downloading package qc to /root/nltk_data...\n",
            "       |   Unzipping corpora/qc.zip.\n",
            "       | Downloading package reuters to /root/nltk_data...\n",
            "       | Downloading package rslp to /root/nltk_data...\n",
            "       |   Unzipping stemmers/rslp.zip.\n",
            "       | Downloading package rte to /root/nltk_data...\n",
            "       |   Unzipping corpora/rte.zip.\n",
            "       | Downloading package sample_grammars to /root/nltk_data...\n",
            "       |   Unzipping grammars/sample_grammars.zip.\n",
            "       | Downloading package semcor to /root/nltk_data...\n",
            "       | Downloading package senseval to /root/nltk_data...\n",
            "       |   Unzipping corpora/senseval.zip.\n",
            "       | Downloading package sentence_polarity to /root/nltk_data...\n",
            "       |   Unzipping corpora/sentence_polarity.zip.\n",
            "       | Downloading package sentiwordnet to /root/nltk_data...\n",
            "       |   Unzipping corpora/sentiwordnet.zip.\n",
            "       | Downloading package shakespeare to /root/nltk_data...\n",
            "       |   Unzipping corpora/shakespeare.zip.\n",
            "       | Downloading package sinica_treebank to /root/nltk_data...\n",
            "       |   Unzipping corpora/sinica_treebank.zip.\n",
            "       | Downloading package smultron to /root/nltk_data...\n",
            "       |   Unzipping corpora/smultron.zip.\n",
            "       | Downloading package snowball_data to /root/nltk_data...\n",
            "       | Downloading package spanish_grammars to /root/nltk_data...\n",
            "       |   Unzipping grammars/spanish_grammars.zip.\n",
            "       | Downloading package state_union to /root/nltk_data...\n",
            "       |   Unzipping corpora/state_union.zip.\n",
            "       | Downloading package stopwords to /root/nltk_data...\n",
            "       |   Unzipping corpora/stopwords.zip.\n",
            "       | Downloading package subjectivity to /root/nltk_data...\n",
            "       |   Unzipping corpora/subjectivity.zip.\n",
            "       | Downloading package swadesh to /root/nltk_data...\n",
            "       |   Unzipping corpora/swadesh.zip.\n",
            "       | Downloading package switchboard to /root/nltk_data...\n",
            "       |   Unzipping corpora/switchboard.zip.\n",
            "       | Downloading package tagsets to /root/nltk_data...\n",
            "       |   Unzipping help/tagsets.zip.\n",
            "       | Downloading package timit to /root/nltk_data...\n",
            "       |   Unzipping corpora/timit.zip.\n",
            "       | Downloading package toolbox to /root/nltk_data...\n",
            "       |   Unzipping corpora/toolbox.zip.\n",
            "       | Downloading package treebank to /root/nltk_data...\n",
            "       |   Unzipping corpora/treebank.zip.\n",
            "       | Downloading package twitter_samples to /root/nltk_data...\n",
            "       |   Unzipping corpora/twitter_samples.zip.\n",
            "       | Downloading package udhr to /root/nltk_data...\n",
            "       |   Unzipping corpora/udhr.zip.\n",
            "       | Downloading package udhr2 to /root/nltk_data...\n",
            "       |   Unzipping corpora/udhr2.zip.\n",
            "       | Downloading package unicode_samples to /root/nltk_data...\n",
            "       |   Unzipping corpora/unicode_samples.zip.\n",
            "       | Downloading package universal_tagset to /root/nltk_data...\n",
            "       |   Unzipping taggers/universal_tagset.zip.\n",
            "       | Downloading package universal_treebanks_v20 to\n",
            "       |     /root/nltk_data...\n",
            "       | Downloading package vader_lexicon to /root/nltk_data...\n",
            "       | Downloading package verbnet to /root/nltk_data...\n",
            "       |   Unzipping corpora/verbnet.zip.\n",
            "       | Downloading package verbnet3 to /root/nltk_data...\n",
            "       |   Unzipping corpora/verbnet3.zip.\n",
            "       | Downloading package webtext to /root/nltk_data...\n",
            "       |   Unzipping corpora/webtext.zip.\n",
            "       | Downloading package wmt15_eval to /root/nltk_data...\n",
            "       |   Unzipping models/wmt15_eval.zip.\n",
            "       | Downloading package word2vec_sample to /root/nltk_data...\n",
            "       |   Unzipping models/word2vec_sample.zip.\n",
            "       | Downloading package wordnet to /root/nltk_data...\n",
            "       | Downloading package wordnet2021 to /root/nltk_data...\n",
            "       | Downloading package wordnet2022 to /root/nltk_data...\n",
            "       |   Unzipping corpora/wordnet2022.zip.\n",
            "       | Downloading package wordnet31 to /root/nltk_data...\n",
            "       | Downloading package wordnet_ic to /root/nltk_data...\n",
            "       |   Unzipping corpora/wordnet_ic.zip.\n",
            "       | Downloading package words to /root/nltk_data...\n",
            "       |   Unzipping corpora/words.zip.\n",
            "       | Downloading package ycoe to /root/nltk_data...\n",
            "       |   Unzipping corpora/ycoe.zip.\n",
            "       | \n",
            "     Done downloading collection all\n"
          ]
        },
        {
          "name": "stdout",
          "output_type": "stream",
          "text": [
            "\n",
            "---------------------------------------------------------------------------\n",
            "    d) Download   l) List    u) Update   c) Config   h) Help   q) Quit\n",
            "---------------------------------------------------------------------------\n",
            "Downloader> q\n"
          ]
        },
        {
          "output_type": "execute_result",
          "data": {
            "text/plain": [
              "True"
            ]
          },
          "metadata": {},
          "execution_count": 13
        }
      ],
      "source": [
        "import nltk\n",
        "nltk.download()"
      ]
    },
    {
      "cell_type": "code",
      "source": [
        "from nltk.translate import Alignment, AlignedSent, IBMModel1"
      ],
      "metadata": {
        "id": "KcW6plM3qS4W"
      },
      "execution_count": null,
      "outputs": []
    },
    {
      "cell_type": "code",
      "source": [
        "#create our corpus\n",
        "bitext = []\n",
        "bitext.append(AlignedSent([\"Bugün\",\"dersimiz\",\"var\"],[\"Today\",\"we\",\"have\",\"lecture\"]))\n",
        "bitext.append(AlignedSent([\"Yarın\",\"dersimiz\",\"yok\"],[\"Tomorrow\",\"we\",\"do\",\"not\", \"have\",\"lecture\"]))\n",
        "bitext.append(AlignedSent([\"Bugün\",\"hava\",\"çok\",\"güzel\"],[\"Today\",\"weather\",\"is\",\"very\",\"good\"]))\n",
        "bitext.append(AlignedSent([\"Bende\",\"bir\",\"kitap\",\"var\"],[\"I\",\"have\",\"a\",\"book\"]))\n",
        "#bitext.append(AlignedSent([\"Bugün\",\"dersimiz\",\"var\"],[\"Today\",\"we\",\"have\",\"lecture\"]))"
      ],
      "metadata": {
        "id": "OPhhdXUoqWQE"
      },
      "execution_count": null,
      "outputs": []
    },
    {
      "cell_type": "code",
      "source": [
        "myIBM = IBMModel1(bitext,20)"
      ],
      "metadata": {
        "id": "tVfjlEZGsFXo"
      },
      "execution_count": null,
      "outputs": []
    },
    {
      "cell_type": "code",
      "source": [
        "myIBM.translation_table[\"Bugün\"][\"Today\"]"
      ],
      "metadata": {
        "colab": {
          "base_uri": "https://localhost:8080/"
        },
        "id": "VT0koDR8sJEF",
        "outputId": "038c6169-c037-4e6c-bbcf-7fa635b1b0a5"
      },
      "execution_count": null,
      "outputs": [
        {
          "output_type": "execute_result",
          "data": {
            "text/plain": [
              "0.9999714847491193"
            ]
          },
          "metadata": {},
          "execution_count": 5
        }
      ]
    },
    {
      "cell_type": "code",
      "source": [
        "myIBM.translation_table[\"Bugün\"][\"good\"]"
      ],
      "metadata": {
        "colab": {
          "base_uri": "https://localhost:8080/"
        },
        "id": "JQi2I-UCsWlh",
        "outputId": "9d9b0adb-d7a1-413b-d2f3-b2d7a2c71ced"
      },
      "execution_count": null,
      "outputs": [
        {
          "output_type": "execute_result",
          "data": {
            "text/plain": [
              "0.009793856580098332"
            ]
          },
          "metadata": {},
          "execution_count": 6
        }
      ]
    },
    {
      "cell_type": "code",
      "source": [
        "test_sentence = bitext[0]\n",
        "test_sentence.words"
      ],
      "metadata": {
        "colab": {
          "base_uri": "https://localhost:8080/"
        },
        "id": "76VvoAFCsshj",
        "outputId": "0eab0016-dfd2-4747-c136-0fabeadee160"
      },
      "execution_count": null,
      "outputs": [
        {
          "output_type": "execute_result",
          "data": {
            "text/plain": [
              "['Bugün', 'dersimiz', 'var']"
            ]
          },
          "metadata": {},
          "execution_count": 7
        }
      ]
    },
    {
      "cell_type": "code",
      "source": [
        "test_sentence.mots"
      ],
      "metadata": {
        "colab": {
          "base_uri": "https://localhost:8080/"
        },
        "id": "f4vh_Cr0s2Vz",
        "outputId": "6d7969fc-378c-4d3a-8026-9dcc366b09e4"
      },
      "execution_count": null,
      "outputs": [
        {
          "output_type": "execute_result",
          "data": {
            "text/plain": [
              "['Today', 'we', 'have', 'lecture']"
            ]
          },
          "metadata": {},
          "execution_count": 8
        }
      ]
    },
    {
      "cell_type": "code",
      "source": [
        "test_sentence.alignment"
      ],
      "metadata": {
        "colab": {
          "base_uri": "https://localhost:8080/"
        },
        "id": "jBVSkoogtAQ1",
        "outputId": "7255dc5d-3c9d-4c4e-d635-23ffcc02b213"
      },
      "execution_count": null,
      "outputs": [
        {
          "output_type": "execute_result",
          "data": {
            "text/plain": [
              "Alignment([(0, 0), (1, 3), (2, 2)])"
            ]
          },
          "metadata": {},
          "execution_count": 9
        }
      ]
    },
    {
      "cell_type": "code",
      "source": [
        "test = bitext[3]\n",
        "test.words"
      ],
      "metadata": {
        "colab": {
          "base_uri": "https://localhost:8080/"
        },
        "id": "nBRJoiyitYun",
        "outputId": "fa474089-3d0a-4bfa-a3a8-6f62ca91820e"
      },
      "execution_count": null,
      "outputs": [
        {
          "output_type": "execute_result",
          "data": {
            "text/plain": [
              "['Bende', 'bir', 'kitap', 'var']"
            ]
          },
          "metadata": {},
          "execution_count": 10
        }
      ]
    },
    {
      "cell_type": "code",
      "source": [
        "test.alignment"
      ],
      "metadata": {
        "id": "tZpfoK9Nt9_G",
        "outputId": "d0c41a20-51c0-4cc6-97f6-630167ed2f27",
        "colab": {
          "base_uri": "https://localhost:8080/"
        }
      },
      "execution_count": null,
      "outputs": [
        {
          "output_type": "execute_result",
          "data": {
            "text/plain": [
              "Alignment([(0, 3), (1, 3), (2, 3), (3, 1)])"
            ]
          },
          "metadata": {},
          "execution_count": 11
        }
      ]
    },
    {
      "cell_type": "code",
      "source": [
        "from nltk.corpus import wordnet as wn\n",
        "\n",
        "wn.synsets('motorcar')\n",
        "\n"
      ],
      "metadata": {
        "colab": {
          "base_uri": "https://localhost:8080/"
        },
        "id": "EFP-KQeiqKhF",
        "outputId": "6cad5b23-7ae9-4701-d719-fe8239b2f5d1"
      },
      "execution_count": null,
      "outputs": [
        {
          "output_type": "execute_result",
          "data": {
            "text/plain": [
              "[Synset('car.n.01')]"
            ]
          },
          "metadata": {},
          "execution_count": 26
        }
      ]
    },
    {
      "cell_type": "code",
      "source": [
        "wn.synsets('book')"
      ],
      "metadata": {
        "colab": {
          "base_uri": "https://localhost:8080/"
        },
        "id": "d9u0-yYSqfp7",
        "outputId": "a183b267-137c-4e15-b05c-4c7ba80c5504"
      },
      "execution_count": null,
      "outputs": [
        {
          "output_type": "execute_result",
          "data": {
            "text/plain": [
              "[Synset('book.n.01'),\n",
              " Synset('book.n.02'),\n",
              " Synset('record.n.05'),\n",
              " Synset('script.n.01'),\n",
              " Synset('ledger.n.01'),\n",
              " Synset('book.n.06'),\n",
              " Synset('book.n.07'),\n",
              " Synset('koran.n.01'),\n",
              " Synset('bible.n.01'),\n",
              " Synset('book.n.10'),\n",
              " Synset('book.n.11'),\n",
              " Synset('book.v.01'),\n",
              " Synset('reserve.v.04'),\n",
              " Synset('book.v.03'),\n",
              " Synset('book.v.04')]"
            ]
          },
          "metadata": {},
          "execution_count": 16
        }
      ]
    },
    {
      "cell_type": "code",
      "source": [
        "wn.synsets('fall')"
      ],
      "metadata": {
        "colab": {
          "base_uri": "https://localhost:8080/"
        },
        "id": "w5PjZ0ePqgiu",
        "outputId": "a6ddb741-b84d-4757-d995-358265075765"
      },
      "execution_count": null,
      "outputs": [
        {
          "output_type": "execute_result",
          "data": {
            "text/plain": [
              "[Synset('fall.n.01'),\n",
              " Synset('spill.n.04'),\n",
              " Synset('fall.n.03'),\n",
              " Synset('descent.n.05'),\n",
              " Synset('fall.n.05'),\n",
              " Synset('fall.n.06'),\n",
              " Synset('fall.n.07'),\n",
              " Synset('capitulation.n.03'),\n",
              " Synset('twilight.n.01'),\n",
              " Synset('fall.n.10'),\n",
              " Synset('drop.n.06'),\n",
              " Synset('drop.n.03'),\n",
              " Synset('fall.v.01'),\n",
              " Synset('descend.v.01'),\n",
              " Synset('fall.v.03'),\n",
              " Synset('fall.v.04'),\n",
              " Synset('precipitate.v.03'),\n",
              " Synset('fall.v.06'),\n",
              " Synset('fall.v.07'),\n",
              " Synset('fall.v.08'),\n",
              " Synset('fall.v.09'),\n",
              " Synset('fall.v.10'),\n",
              " Synset('decrease.v.01'),\n",
              " Synset('fall.v.12'),\n",
              " Synset('fall.v.13'),\n",
              " Synset('fall.v.14'),\n",
              " Synset('fall.v.15'),\n",
              " Synset('fall.v.16'),\n",
              " Synset('fall.v.17'),\n",
              " Synset('fall.v.18'),\n",
              " Synset('accrue.v.02'),\n",
              " Synset('fall.v.20'),\n",
              " Synset('fall.v.21'),\n",
              " Synset('fall.v.22'),\n",
              " Synset('fall.v.23'),\n",
              " Synset('fall.v.24'),\n",
              " Synset('hang.v.05'),\n",
              " Synset('fall.v.26'),\n",
              " Synset('fall.v.27'),\n",
              " Synset('fall.v.28'),\n",
              " Synset('fall.v.29'),\n",
              " Synset('fall.v.30'),\n",
              " Synset('fall.v.31'),\n",
              " Synset('fall.v.32')]"
            ]
          },
          "metadata": {},
          "execution_count": 17
        }
      ]
    },
    {
      "cell_type": "code",
      "source": [
        "wn.synsets('car')"
      ],
      "metadata": {
        "colab": {
          "base_uri": "https://localhost:8080/"
        },
        "id": "nyuSpL9iqhZz",
        "outputId": "1b940819-f542-49fd-9b71-03a005447971"
      },
      "execution_count": null,
      "outputs": [
        {
          "output_type": "execute_result",
          "data": {
            "text/plain": [
              "[Synset('car.n.01'),\n",
              " Synset('car.n.02'),\n",
              " Synset('car.n.03'),\n",
              " Synset('car.n.04'),\n",
              " Synset('cable_car.n.01')]"
            ]
          },
          "metadata": {},
          "execution_count": 19
        }
      ]
    },
    {
      "cell_type": "code",
      "source": [
        "for i in range(len(wn.synsets('motorcar'))):\n",
        "  print(wn.synsets('motorcar')[i].lemma_names())"
      ],
      "metadata": {
        "colab": {
          "base_uri": "https://localhost:8080/"
        },
        "id": "8E25FHP4rhTu",
        "outputId": "d7362401-ea4d-4355-a258-efe050bdbed5"
      },
      "execution_count": 27,
      "outputs": [
        {
          "output_type": "stream",
          "name": "stdout",
          "text": [
            "['car', 'auto', 'automobile', 'machine', 'motorcar']\n"
          ]
        }
      ]
    },
    {
      "cell_type": "code",
      "source": [
        "for i in range(len(wn.synsets('book'))):\n",
        "  print(wn.synsets('book')[i].lemma_names())"
      ],
      "metadata": {
        "colab": {
          "base_uri": "https://localhost:8080/"
        },
        "id": "VtG0U0ZXvwCV",
        "outputId": "031fd88c-5dfb-42f5-928a-64b6acc3b1b0"
      },
      "execution_count": 29,
      "outputs": [
        {
          "output_type": "stream",
          "name": "stdout",
          "text": [
            "['book']\n",
            "['book', 'volume']\n",
            "['record', 'record_book', 'book']\n",
            "['script', 'book', 'playscript']\n",
            "['ledger', 'leger', 'account_book', 'book_of_account', 'book']\n",
            "['book']\n",
            "['book', 'rule_book']\n",
            "['Koran', 'Quran', \"al-Qur'an\", 'Book']\n",
            "['Bible', 'Christian_Bible', 'Book', 'Good_Book', 'Holy_Scripture', 'Holy_Writ', 'Scripture', 'Word_of_God', 'Word']\n",
            "['book']\n",
            "['book']\n",
            "['book']\n",
            "['reserve', 'hold', 'book']\n",
            "['book']\n",
            "['book']\n"
          ]
        }
      ]
    },
    {
      "cell_type": "code",
      "source": [
        "for i in range(len(wn.synsets('fall'))):\n",
        "  print(wn.synsets('fall')[i].lemma_names())"
      ],
      "metadata": {
        "colab": {
          "base_uri": "https://localhost:8080/"
        },
        "id": "XQtov6aKvwy-",
        "outputId": "40407a68-bdad-4837-ed5c-89773d73aa1b"
      },
      "execution_count": 30,
      "outputs": [
        {
          "output_type": "stream",
          "name": "stdout",
          "text": [
            "['fall', 'autumn']\n",
            "['spill', 'tumble', 'fall']\n",
            "['Fall']\n",
            "['descent', 'declivity', 'fall', 'decline', 'declination', 'declension', 'downslope']\n",
            "['fall']\n",
            "['fall', 'downfall']\n",
            "['fall']\n",
            "['capitulation', 'fall', 'surrender']\n",
            "['twilight', 'dusk', 'gloaming', 'gloam', 'nightfall', 'evenfall', 'fall', 'crepuscule', 'crepuscle']\n",
            "['fall', 'pin']\n",
            "['drop', 'fall']\n",
            "['drop', 'dip', 'fall', 'free_fall']\n",
            "['fall']\n",
            "['descend', 'fall', 'go_down', 'come_down']\n",
            "['fall']\n",
            "['fall', 'come']\n",
            "['precipitate', 'come_down', 'fall']\n",
            "['fall']\n",
            "['fall']\n",
            "['fall', 'shine', 'strike']\n",
            "['fall']\n",
            "['fall']\n",
            "['decrease', 'diminish', 'lessen', 'fall']\n",
            "['fall']\n",
            "['fall']\n",
            "['fall']\n",
            "['fall']\n",
            "['fall']\n",
            "['fall']\n",
            "['fall']\n",
            "['accrue', 'fall']\n",
            "['fall', 'light']\n",
            "['fall', 'return', 'pass', 'devolve']\n",
            "['fall']\n",
            "['fall', 'fall_down']\n",
            "['fall']\n",
            "['hang', 'fall', 'flow']\n",
            "['fall']\n",
            "['fall']\n",
            "['fall']\n",
            "['fall']\n",
            "['fall']\n",
            "['fall']\n",
            "['fall', 'descend', 'settle']\n"
          ]
        }
      ]
    },
    {
      "cell_type": "code",
      "source": [
        "for i in range(len(wn.synsets('car'))):\n",
        "  print(wn.synsets('car')[i].lemma_names())"
      ],
      "metadata": {
        "colab": {
          "base_uri": "https://localhost:8080/"
        },
        "id": "wq6L5-vzwAVs",
        "outputId": "e57c04b6-05e3-4814-8f47-6e4d855b1e58"
      },
      "execution_count": 31,
      "outputs": [
        {
          "output_type": "stream",
          "name": "stdout",
          "text": [
            "['car', 'auto', 'automobile', 'machine', 'motorcar']\n",
            "['car', 'railcar', 'railway_car', 'railroad_car']\n",
            "['car', 'gondola']\n",
            "['car', 'elevator_car']\n",
            "['cable_car', 'car']\n"
          ]
        }
      ]
    },
    {
      "cell_type": "code",
      "source": [
        "for i in range(len(wn.synsets('motorcar'))):\n",
        "  print(wn.synsets('motorcar')[i].definition())\n"
      ],
      "metadata": {
        "colab": {
          "base_uri": "https://localhost:8080/"
        },
        "id": "M_P8GDhqrvsa",
        "outputId": "c459db4d-8913-42ad-d613-8af6e762ddef"
      },
      "execution_count": 34,
      "outputs": [
        {
          "output_type": "stream",
          "name": "stdout",
          "text": [
            "a motor vehicle with four wheels; usually propelled by an internal combustion engine\n"
          ]
        }
      ]
    },
    {
      "cell_type": "code",
      "source": [
        "for i in range(len(wn.synsets('book'))):\n",
        "  print(wn.synsets('book')[i].definition())"
      ],
      "metadata": {
        "colab": {
          "base_uri": "https://localhost:8080/"
        },
        "id": "OTHoiUo7whFR",
        "outputId": "b8558a6a-089f-4b38-9231-4ec5ef9d4a19"
      },
      "execution_count": 35,
      "outputs": [
        {
          "output_type": "stream",
          "name": "stdout",
          "text": [
            "a written work or composition that has been published (printed on pages bound together)\n",
            "physical objects consisting of a number of pages bound together\n",
            "a compilation of the known facts regarding something or someone\n",
            "a written version of a play or other dramatic composition; used in preparing for a performance\n",
            "a record in which commercial accounts are recorded\n",
            "a collection of playing cards satisfying the rules of a card game\n",
            "a collection of rules or prescribed standards on the basis of which decisions are made\n",
            "the sacred writings of Islam revealed by God to the prophet Muhammad during his life at Mecca and Medina\n",
            "the sacred writings of the Christian religions\n",
            "a major division of a long written composition\n",
            "a number of sheets (ticket or stamps etc.) bound together on one edge\n",
            "engage for a performance\n",
            "arrange for and reserve (something for someone else) in advance\n",
            "record a charge in a police register\n",
            "register in a hotel booker\n"
          ]
        }
      ]
    },
    {
      "cell_type": "code",
      "source": [
        "for i in range(len(wn.synsets('fall'))):\n",
        "  print(wn.synsets('fall')[i].definition())"
      ],
      "metadata": {
        "colab": {
          "base_uri": "https://localhost:8080/"
        },
        "id": "KU72syqLwm9R",
        "outputId": "baaa0c57-02bd-45d4-f54e-42d0c953f2c1"
      },
      "execution_count": 36,
      "outputs": [
        {
          "output_type": "stream",
          "name": "stdout",
          "text": [
            "the season when the leaves fall from the trees\n",
            "a sudden drop from an upright position\n",
            "the lapse of mankind into sinfulness because of the sin of Adam and Eve\n",
            "a downward slope or bend\n",
            "a lapse into sin; a loss of innocence or of chastity\n",
            "a sudden decline in strength or number or importance\n",
            "a movement downward\n",
            "the act of surrendering (usually under agreed conditions)\n",
            "the time of day immediately following sunset\n",
            "when a wrestler's shoulders are forced to the mat\n",
            "a free and rapid descent by the force of gravity\n",
            "a sudden sharp decrease in some quantity\n",
            "descend in free fall under the influence of gravity\n",
            "move downward and lower, but not necessarily all the way\n",
            "pass suddenly and passively into a state of body or mind\n",
            "come under, be classified or included\n",
            "fall from clouds\n",
            "suffer defeat, failure, or ruin\n",
            "die, as in battle or in a hunt\n",
            "touch or seem as if touching visually or audibly\n",
            "be captured\n",
            "occur at a specified time or place\n",
            "decrease in size, extent, or range\n",
            "yield to temptation or sin\n",
            "lose office or power\n",
            "to be given by assignment or distribution\n",
            "move in a specified direction\n",
            "be due\n",
            "lose one's chastity\n",
            "to be given by right or inheritance\n",
            "come into the possession of\n",
            "fall to somebody by assignment or lot\n",
            "be inherited by\n",
            "slope downward\n",
            "lose an upright position suddenly\n",
            "drop oneself to a lower or less erect position\n",
            "fall or flow in a certain way\n",
            "assume a disappointed or sad expression\n",
            "be cast down\n",
            "come out; issue\n",
            "be born, used chiefly of lambs\n",
            "begin vigorously\n",
            "go as if by falling\n",
            "come as if by falling\n"
          ]
        }
      ]
    },
    {
      "cell_type": "code",
      "source": [
        "for i in range(len(wn.synsets('car'))):\n",
        "  print(wn.synsets('car')[i].definition())"
      ],
      "metadata": {
        "colab": {
          "base_uri": "https://localhost:8080/"
        },
        "id": "6KrG7QTUwpkI",
        "outputId": "17c112c8-345d-453b-9aa4-6766e32f6582"
      },
      "execution_count": 37,
      "outputs": [
        {
          "output_type": "stream",
          "name": "stdout",
          "text": [
            "a motor vehicle with four wheels; usually propelled by an internal combustion engine\n",
            "a wheeled vehicle adapted to the rails of railroad\n",
            "the compartment that is suspended from an airship and that carries personnel and the cargo and the power plant\n",
            "where passengers ride up and down\n",
            "a conveyance for passengers or freight on a cable railway\n"
          ]
        }
      ]
    },
    {
      "cell_type": "code",
      "source": [
        "for i in range(len(wn.synsets('motorcar'))):\n",
        "  print(wn.synsets('motorcar')[i].examples())"
      ],
      "metadata": {
        "colab": {
          "base_uri": "https://localhost:8080/"
        },
        "id": "gcbFdkfWr4yF",
        "outputId": "a291d1d1-5005-443d-a2d8-a034c65d681c"
      },
      "execution_count": null,
      "outputs": [
        {
          "output_type": "execute_result",
          "data": {
            "text/plain": [
              "['he needs a car to get to work']"
            ]
          },
          "metadata": {},
          "execution_count": 24
        }
      ]
    },
    {
      "cell_type": "code",
      "source": [
        "for i in range(len(wn.synsets('car'))):\n",
        "  print(wn.synsets('car')[i].examples())"
      ],
      "metadata": {
        "colab": {
          "base_uri": "https://localhost:8080/"
        },
        "id": "pO48gXAVxIRY",
        "outputId": "3dfc7d48-eb32-4b33-9de1-d751f6678189"
      },
      "execution_count": 38,
      "outputs": [
        {
          "output_type": "stream",
          "name": "stdout",
          "text": [
            "['he needs a car to get to work']\n",
            "['three cars had jumped the rails']\n",
            "[]\n",
            "['the car was on the top floor']\n",
            "['they took a cable car to the top of the mountain']\n"
          ]
        }
      ]
    },
    {
      "cell_type": "code",
      "source": [
        "for i in range(len(wn.synsets('book'))):\n",
        "  print(wn.synsets('book')[i].examples())"
      ],
      "metadata": {
        "colab": {
          "base_uri": "https://localhost:8080/"
        },
        "id": "2DpNadwrxIv_",
        "outputId": "b1ac56a8-5138-471f-afbe-99ab6b66e374"
      },
      "execution_count": 39,
      "outputs": [
        {
          "output_type": "stream",
          "name": "stdout",
          "text": [
            "['I am reading a good book on economics']\n",
            "['he used a large book as a doorstop']\n",
            "[\"Al Smith used to say, `Let's look at the record'\", 'his name is in all the record books']\n",
            "[]\n",
            "['they got a subpoena to examine our books']\n",
            "[]\n",
            "['they run things by the book around here']\n",
            "[]\n",
            "['he went to carry the Word to the heathen']\n",
            "['the book of Isaiah']\n",
            "['he bought a book of stamps']\n",
            "['Her agent had booked her for several concerts in Tokyo']\n",
            "['reserve me a seat on a flight', 'The agent booked tickets to the show for the whole family', \"please hold a table at Maxim's\"]\n",
            "['The policeman booked her when she tried to solicit a man']\n",
            "[]\n"
          ]
        }
      ]
    },
    {
      "cell_type": "code",
      "source": [
        "for i in range(len(wn.synsets('fall'))):\n",
        "  print(wn.synsets('fall')[i].examples())"
      ],
      "metadata": {
        "colab": {
          "base_uri": "https://localhost:8080/"
        },
        "id": "hk75nE5mxJEf",
        "outputId": "7838b92e-77e1-41c3-cfd9-123b759acf42"
      },
      "execution_count": 40,
      "outputs": [
        {
          "output_type": "stream",
          "name": "stdout",
          "text": [
            "['in the fall of 1973']\n",
            "['he had a nasty spill on the ice']\n",
            "['women have been blamed ever since the Fall']\n",
            "[]\n",
            "['a fall from virtue']\n",
            "['the fall of the House of Hapsburg']\n",
            "['the rise and fall of the tides']\n",
            "['they were protected until the capitulation of the fort']\n",
            "['he loved the twilight', 'they finished before the fall of night']\n",
            "[]\n",
            "['it was a miracle that he survived the drop from that height']\n",
            "['a drop of 57 points on the Dow Jones index', 'there was a drop in pressure in the pulmonary artery', 'a dip in prices', 'when that became known the price of their stock went into free fall']\n",
            "['The branch fell from the tree', 'The unfortunate hiker fell into a crevasse']\n",
            "['The temperature is going down', 'The barometer is falling', 'The curtain fell on the diva', 'Her hand went up and then fell again']\n",
            "['fall into a trap', 'She fell ill', 'They fell out of favor', 'Fall in love', 'fall asleep', 'fall prey to an imposter', 'fall into a strange way of thinking', 'she fell to pieces after she lost her work']\n",
            "['fall into a category', 'This comes under a new heading']\n",
            "['rain, snow and sleet were falling', 'Vesuvius precipitated its fiery, destructive rage on Herculaneum']\n",
            "['We must stand or fall', 'fall by the wayside']\n",
            "['Many soldiers fell at Verdun', 'Several deer have fallen to the same gun', 'The shooting victim fell dead']\n",
            "['Light fell on her face', 'The sun shone on the fields', 'The light struck the golden necklace', 'A strange sound struck my ears']\n",
            "['The cities fell to the enemy']\n",
            "['Christmas falls on a Monday this year', 'The accent falls on the first syllable']\n",
            "['The amount of homework decreased towards the end of the semester', 'The cabin pressure fell dramatically', 'her weight fell to under a hundred pounds', 'his voice fell to a whisper']\n",
            "['Adam and Eve fell']\n",
            "['The government fell overnight', 'The Qing Dynasty fell with Sun Yat-sen']\n",
            "['The most difficult task fell on the youngest member of the team', 'The onus fell on us', 'The pressure to succeed fell on the youngest student']\n",
            "['The line of men fall forward']\n",
            "['payments fall on the 1st of the month']\n",
            "['a fallen woman']\n",
            "['The estate fell to the oldest daughter']\n",
            "['The house accrued to the oldest son']\n",
            "['The task fell to me', 'It fell to me to notify the parents of the victims']\n",
            "['The estate fell to my sister', 'The land returned to the family', 'The estate devolved to an heir that everybody had assumed to be dead']\n",
            "['The hills around here fall towards the ocean']\n",
            "['The vase fell over and the water spilled onto the table', 'Her hair fell across her forehead']\n",
            "['She fell back in her chair', 'He fell to his knees']\n",
            "['This dress hangs well', 'Her long black hair flowed down her back']\n",
            "['Her face fell when she heard that she would be laid off', 'his crest fell']\n",
            "['his eyes fell']\n",
            "['silly phrases fell from her mouth']\n",
            "['The lambs fell in the afternoon']\n",
            "['The prisoners fell to work right away']\n",
            "['Grief fell from our hearts']\n",
            "['Night fell', 'Silence fell']\n"
          ]
        }
      ]
    },
    {
      "cell_type": "code",
      "source": [
        "wn.synset('ledger.n.01').lemmas()"
      ],
      "metadata": {
        "colab": {
          "base_uri": "https://localhost:8080/"
        },
        "id": "8lLaL8izzGOs",
        "outputId": "11070d6b-03e3-4480-e448-7218b1638512"
      },
      "execution_count": 41,
      "outputs": [
        {
          "output_type": "execute_result",
          "data": {
            "text/plain": [
              "[Lemma('ledger.n.01.ledger'),\n",
              " Lemma('ledger.n.01.leger'),\n",
              " Lemma('ledger.n.01.account_book'),\n",
              " Lemma('ledger.n.01.book_of_account'),\n",
              " Lemma('ledger.n.01.book')]"
            ]
          },
          "metadata": {},
          "execution_count": 41
        }
      ]
    },
    {
      "cell_type": "code",
      "source": [
        "wn.lemma('ledger.n.01.account_book')"
      ],
      "metadata": {
        "colab": {
          "base_uri": "https://localhost:8080/"
        },
        "id": "0WZ1mLPLzdeK",
        "outputId": "d3088221-ea19-4a82-a73c-9f3902232e85"
      },
      "execution_count": 44,
      "outputs": [
        {
          "output_type": "execute_result",
          "data": {
            "text/plain": [
              "Lemma('ledger.n.01.account_book')"
            ]
          },
          "metadata": {},
          "execution_count": 44
        }
      ]
    },
    {
      "cell_type": "code",
      "source": [
        "wn.lemma('ledger.n.01.account_book').synset()"
      ],
      "metadata": {
        "colab": {
          "base_uri": "https://localhost:8080/"
        },
        "id": "M4ueOiZRz235",
        "outputId": "c2ee5379-9a2e-45ec-dc56-a77294e58642"
      },
      "execution_count": 45,
      "outputs": [
        {
          "output_type": "execute_result",
          "data": {
            "text/plain": [
              "Synset('ledger.n.01')"
            ]
          },
          "metadata": {},
          "execution_count": 45
        }
      ]
    },
    {
      "cell_type": "code",
      "source": [
        "wn.lemma('ledger.n.01.book_of_account').name()"
      ],
      "metadata": {
        "colab": {
          "base_uri": "https://localhost:8080/",
          "height": 35
        },
        "id": "Ws90Xv6Y0AKt",
        "outputId": "5dee9104-3e64-4343-fff8-967ab4320302"
      },
      "execution_count": 46,
      "outputs": [
        {
          "output_type": "execute_result",
          "data": {
            "text/plain": [
              "'book_of_account'"
            ],
            "application/vnd.google.colaboratory.intrinsic+json": {
              "type": "string"
            }
          },
          "metadata": {},
          "execution_count": 46
        }
      ]
    },
    {
      "cell_type": "code",
      "source": [
        "wn.synsets('fruit')"
      ],
      "metadata": {
        "colab": {
          "base_uri": "https://localhost:8080/"
        },
        "id": "fqJm49we0KbQ",
        "outputId": "ee32abc8-a837-4d02-94c3-29e5f62e01c0"
      },
      "execution_count": 47,
      "outputs": [
        {
          "output_type": "execute_result",
          "data": {
            "text/plain": [
              "[Synset('fruit.n.01'),\n",
              " Synset('yield.n.03'),\n",
              " Synset('fruit.n.03'),\n",
              " Synset('fruit.v.01'),\n",
              " Synset('fruit.v.02')]"
            ]
          },
          "metadata": {},
          "execution_count": 47
        }
      ]
    },
    {
      "cell_type": "code",
      "source": [
        "for synset in wn.synsets('fruit'):\n",
        "  print(synset.lemma_names())\n"
      ],
      "metadata": {
        "colab": {
          "base_uri": "https://localhost:8080/"
        },
        "id": "G-ypsPZv0PJI",
        "outputId": "92da7beb-d34b-42b1-e78a-39c18bf00048"
      },
      "execution_count": 50,
      "outputs": [
        {
          "output_type": "stream",
          "name": "stdout",
          "text": [
            "['fruit']\n",
            "['yield', 'fruit']\n",
            "['fruit']\n",
            "['fruit']\n",
            "['fruit']\n"
          ]
        }
      ]
    },
    {
      "cell_type": "code",
      "source": [
        "motorcar = wn.synset('car.n.01')\n",
        "types_of_motorcar = motorcar.hyponyms()\n",
        "types_of_motorcar[0]\n"
      ],
      "metadata": {
        "colab": {
          "base_uri": "https://localhost:8080/"
        },
        "id": "Z3ud6x5L07d_",
        "outputId": "f307eba7-1ebb-4468-d707-b64b47fc511e"
      },
      "execution_count": 52,
      "outputs": [
        {
          "output_type": "execute_result",
          "data": {
            "text/plain": [
              "Synset('ambulance.n.01')"
            ]
          },
          "metadata": {},
          "execution_count": 52
        }
      ]
    },
    {
      "cell_type": "code",
      "source": [
        "sorted(lemma.name() for synset in types_of_motorcar for lemma in synset.lemmas())"
      ],
      "metadata": {
        "colab": {
          "base_uri": "https://localhost:8080/"
        },
        "id": "J1Bfp9dL0_qs",
        "outputId": "cbafefd3-4c30-4918-ee50-5eab952eeda8"
      },
      "execution_count": 55,
      "outputs": [
        {
          "output_type": "execute_result",
          "data": {
            "text/plain": [
              "['Model_T',\n",
              " 'S.U.V.',\n",
              " 'SUV',\n",
              " 'Stanley_Steamer',\n",
              " 'ambulance',\n",
              " 'beach_waggon',\n",
              " 'beach_wagon',\n",
              " 'bus',\n",
              " 'cab',\n",
              " 'compact',\n",
              " 'compact_car',\n",
              " 'convertible',\n",
              " 'coupe',\n",
              " 'cruiser',\n",
              " 'electric',\n",
              " 'electric_automobile',\n",
              " 'electric_car',\n",
              " 'estate_car',\n",
              " 'gas_guzzler',\n",
              " 'hack',\n",
              " 'hardtop',\n",
              " 'hatchback',\n",
              " 'heap',\n",
              " 'horseless_carriage',\n",
              " 'hot-rod',\n",
              " 'hot_rod',\n",
              " 'jalopy',\n",
              " 'jeep',\n",
              " 'landrover',\n",
              " 'limo',\n",
              " 'limousine',\n",
              " 'loaner',\n",
              " 'minicar',\n",
              " 'minivan',\n",
              " 'pace_car',\n",
              " 'patrol_car',\n",
              " 'phaeton',\n",
              " 'police_car',\n",
              " 'police_cruiser',\n",
              " 'prowl_car',\n",
              " 'race_car',\n",
              " 'racer',\n",
              " 'racing_car',\n",
              " 'roadster',\n",
              " 'runabout',\n",
              " 'saloon',\n",
              " 'secondhand_car',\n",
              " 'sedan',\n",
              " 'sport_car',\n",
              " 'sport_utility',\n",
              " 'sport_utility_vehicle',\n",
              " 'sports_car',\n",
              " 'squad_car',\n",
              " 'station_waggon',\n",
              " 'station_wagon',\n",
              " 'stock_car',\n",
              " 'subcompact',\n",
              " 'subcompact_car',\n",
              " 'taxi',\n",
              " 'taxicab',\n",
              " 'tourer',\n",
              " 'touring_car',\n",
              " 'two-seater',\n",
              " 'used-car',\n",
              " 'waggon',\n",
              " 'wagon']"
            ]
          },
          "metadata": {},
          "execution_count": 55
        }
      ]
    },
    {
      "cell_type": "code",
      "source": [
        "motorcar.hypernyms()\n",
        "## there are a bunch of synsets \n"
      ],
      "metadata": {
        "colab": {
          "base_uri": "https://localhost:8080/"
        },
        "id": "LtJjxGot1UFS",
        "outputId": "0a8b9260-6f93-4896-c10d-efc20f139bbc"
      },
      "execution_count": 56,
      "outputs": [
        {
          "output_type": "execute_result",
          "data": {
            "text/plain": [
              "['entity.n.01',\n",
              " 'physical_entity.n.01',\n",
              " 'object.n.01',\n",
              " 'whole.n.02',\n",
              " 'artifact.n.01',\n",
              " 'instrumentality.n.03',\n",
              " 'conveyance.n.03',\n",
              " 'vehicle.n.01',\n",
              " 'wheeled_vehicle.n.01',\n",
              " 'self-propelled_vehicle.n.01',\n",
              " 'motor_vehicle.n.01',\n",
              " 'car.n.01']"
            ]
          },
          "metadata": {},
          "execution_count": 56
        }
      ]
    },
    {
      "cell_type": "code",
      "source": [
        "paths = motorcar.hypernym_paths()\n",
        "len(paths)#the len output is 2\n"
      ],
      "metadata": {
        "colab": {
          "base_uri": "https://localhost:8080/"
        },
        "id": "-61BBwxA1gBL",
        "outputId": "8665811b-1b31-456e-be83-8b2641397ae5"
      },
      "execution_count": 60,
      "outputs": [
        {
          "output_type": "execute_result",
          "data": {
            "text/plain": [
              "2"
            ]
          },
          "metadata": {},
          "execution_count": 60
        }
      ]
    },
    {
      "cell_type": "code",
      "source": [
        "[synset.name() for synset in paths[0]]"
      ],
      "metadata": {
        "colab": {
          "base_uri": "https://localhost:8080/"
        },
        "id": "NVjefUnv15Y1",
        "outputId": "e0ff1732-1395-4107-b968-63d969fb0b36"
      },
      "execution_count": 61,
      "outputs": [
        {
          "output_type": "execute_result",
          "data": {
            "text/plain": [
              "['entity.n.01',\n",
              " 'physical_entity.n.01',\n",
              " 'object.n.01',\n",
              " 'whole.n.02',\n",
              " 'artifact.n.01',\n",
              " 'instrumentality.n.03',\n",
              " 'container.n.01',\n",
              " 'wheeled_vehicle.n.01',\n",
              " 'self-propelled_vehicle.n.01',\n",
              " 'motor_vehicle.n.01',\n",
              " 'car.n.01']"
            ]
          },
          "metadata": {},
          "execution_count": 61
        }
      ]
    },
    {
      "cell_type": "code",
      "source": [
        "[synset.name() for synset in paths[1]]#there is no difference"
      ],
      "metadata": {
        "colab": {
          "base_uri": "https://localhost:8080/"
        },
        "id": "X_aVSUiQ1kN9",
        "outputId": "fff61311-1b76-4db9-cd3e-3f4ad5a666a2"
      },
      "execution_count": 59,
      "outputs": [
        {
          "output_type": "execute_result",
          "data": {
            "text/plain": [
              "['entity.n.01',\n",
              " 'physical_entity.n.01',\n",
              " 'object.n.01',\n",
              " 'whole.n.02',\n",
              " 'artifact.n.01',\n",
              " 'instrumentality.n.03',\n",
              " 'conveyance.n.03',\n",
              " 'vehicle.n.01',\n",
              " 'wheeled_vehicle.n.01',\n",
              " 'self-propelled_vehicle.n.01',\n",
              " 'motor_vehicle.n.01',\n",
              " 'car.n.01']"
            ]
          },
          "metadata": {},
          "execution_count": 59
        }
      ]
    },
    {
      "cell_type": "code",
      "source": [
        "wn.synset('animal.n.01').part_meronyms()"
      ],
      "metadata": {
        "colab": {
          "base_uri": "https://localhost:8080/"
        },
        "id": "TaLzDYwV168W",
        "outputId": "c8745911-555b-40ff-c61f-ca6521e83cfc"
      },
      "execution_count": 68,
      "outputs": [
        {
          "output_type": "execute_result",
          "data": {
            "text/plain": [
              "[Synset('face.n.07'), Synset('head.n.01')]"
            ]
          },
          "metadata": {},
          "execution_count": 68
        }
      ]
    },
    {
      "cell_type": "code",
      "source": [
        "wn.synset('animal.n.01').substance_meronyms()"
      ],
      "metadata": {
        "colab": {
          "base_uri": "https://localhost:8080/"
        },
        "id": "15qh7MCJ2EoE",
        "outputId": "491e3d90-6d7c-483a-9804-0e96b2c7ab17"
      },
      "execution_count": 66,
      "outputs": [
        {
          "output_type": "execute_result",
          "data": {
            "text/plain": [
              "[Synset('animal_tissue.n.01')]"
            ]
          },
          "metadata": {},
          "execution_count": 66
        }
      ]
    },
    {
      "cell_type": "code",
      "source": [
        "wn.synset('animal.n.01').member_holonyms()"
      ],
      "metadata": {
        "colab": {
          "base_uri": "https://localhost:8080/"
        },
        "id": "lAyOE9gf2IiL",
        "outputId": "de96a6f7-22e9-47f2-8b80-dc1737d0f1bb"
      },
      "execution_count": 67,
      "outputs": [
        {
          "output_type": "execute_result",
          "data": {
            "text/plain": [
              "[Synset('animalia.n.01')]"
            ]
          },
          "metadata": {},
          "execution_count": 67
        }
      ]
    },
    {
      "cell_type": "code",
      "source": [
        " wn.lemma('supply.n.02.supply').antonyms()\n"
      ],
      "metadata": {
        "colab": {
          "base_uri": "https://localhost:8080/"
        },
        "id": "jCMPRp7K2fJa",
        "outputId": "c8018859-a6d4-46b3-e0cf-16ede5950864"
      },
      "execution_count": 69,
      "outputs": [
        {
          "output_type": "execute_result",
          "data": {
            "text/plain": [
              "[Lemma('demand.n.02.demand')]"
            ]
          },
          "metadata": {},
          "execution_count": 69
        }
      ]
    },
    {
      "cell_type": "code",
      "source": [
        "wn.lemma('rush.v.01.rush').antonyms()"
      ],
      "metadata": {
        "colab": {
          "base_uri": "https://localhost:8080/"
        },
        "id": "XMnE53er2jDc",
        "outputId": "6badca45-0089-4ed4-c7bd-d1a290e57a56"
      },
      "execution_count": 70,
      "outputs": [
        {
          "output_type": "execute_result",
          "data": {
            "text/plain": [
              "[Lemma('linger.v.04.linger')]"
            ]
          },
          "metadata": {},
          "execution_count": 70
        }
      ]
    },
    {
      "cell_type": "code",
      "source": [
        "wn.lemma('horizontal.a.01.horizontal').antonyms()"
      ],
      "metadata": {
        "colab": {
          "base_uri": "https://localhost:8080/"
        },
        "id": "w-gX4Rq92k5e",
        "outputId": "3dffdb91-6c5e-41e2-a69c-a06ab0a6f1f9"
      },
      "execution_count": 71,
      "outputs": [
        {
          "output_type": "execute_result",
          "data": {
            "text/plain": [
              "[Lemma('vertical.a.01.vertical'), Lemma('inclined.a.02.inclined')]"
            ]
          },
          "metadata": {},
          "execution_count": 71
        }
      ]
    },
    {
      "cell_type": "code",
      "source": [
        "wn.lemma('staccato.r.01.staccato').antonyms()"
      ],
      "metadata": {
        "colab": {
          "base_uri": "https://localhost:8080/"
        },
        "id": "Hr4fak1p2mzb",
        "outputId": "32282c54-fcf1-490c-a6e4-25a4a3d72426"
      },
      "execution_count": 72,
      "outputs": [
        {
          "output_type": "execute_result",
          "data": {
            "text/plain": [
              "[Lemma('legato.r.01.legato')]"
            ]
          },
          "metadata": {},
          "execution_count": 72
        }
      ]
    },
    {
      "cell_type": "code",
      "source": [
        "word = 'good'\n",
        "\n",
        "antonyms = set()\n",
        "for syn in wn.synsets(word):\n",
        "    for lemma in syn.lemmas():\n",
        "        if lemma.antonyms():\n",
        "            antonyms.add(lemma.antonyms()[0].name())\n",
        "\n",
        "print(antonyms)"
      ],
      "metadata": {
        "colab": {
          "base_uri": "https://localhost:8080/"
        },
        "id": "DcQKdQNT3UwK",
        "outputId": "aa36e304-c25e-454f-b230-2b4c74b52161"
      },
      "execution_count": 87,
      "outputs": [
        {
          "output_type": "stream",
          "name": "stdout",
          "text": [
            "{'evilness', 'bad', 'evil', 'ill', 'badness'}\n"
          ]
        }
      ]
    },
    {
      "cell_type": "code",
      "source": [
        "word = 'white'\n",
        "\n",
        "antonyms = set()\n",
        "for syn in wn.synsets(word):\n",
        "    for lemma in syn.lemmas():\n",
        "        if lemma.antonyms():\n",
        "            antonyms.add(lemma.antonyms()[0].name())\n",
        "\n",
        "print(antonyms)"
      ],
      "metadata": {
        "colab": {
          "base_uri": "https://localhost:8080/"
        },
        "id": "vD2x_J6R-S-_",
        "outputId": "254c7bfa-bc34-4293-bc0c-2a554ce68dc4"
      },
      "execution_count": 88,
      "outputs": [
        {
          "output_type": "stream",
          "name": "stdout",
          "text": [
            "{'blacken', 'black'}\n"
          ]
        }
      ]
    },
    {
      "cell_type": "code",
      "source": [
        "word = 'hot'\n",
        "\n",
        "antonyms = set()\n",
        "for syn in wn.synsets(word):\n",
        "    for lemma in syn.lemmas():\n",
        "        if lemma.antonyms():\n",
        "            antonyms.add(lemma.antonyms()[0].name())\n",
        "\n",
        "print(antonyms)"
      ],
      "metadata": {
        "colab": {
          "base_uri": "https://localhost:8080/"
        },
        "id": "R_BQMesO-Tkn",
        "outputId": "3054aae8-b7e0-488a-e8e2-da30b6d2e109"
      },
      "execution_count": 89,
      "outputs": [
        {
          "output_type": "stream",
          "name": "stdout",
          "text": [
            "{'cold'}\n"
          ]
        }
      ]
    },
    {
      "cell_type": "code",
      "source": [
        "word = 'sweet'\n",
        "\n",
        "antonyms = set()\n",
        "for syn in wn.synsets(word):\n",
        "    for lemma in syn.lemmas():\n",
        "        if lemma.antonyms():\n",
        "            antonyms.add(lemma.antonyms()[0].name())\n",
        "\n",
        "print(antonyms)"
      ],
      "metadata": {
        "colab": {
          "base_uri": "https://localhost:8080/"
        },
        "id": "WhaOvUwb-T1L",
        "outputId": "a6d344c7-bc9e-4ec0-9642-4bb66d226543"
      },
      "execution_count": 90,
      "outputs": [
        {
          "output_type": "stream",
          "name": "stdout",
          "text": [
            "{'salty', 'dry', 'sour'}\n"
          ]
        }
      ]
    },
    {
      "cell_type": "code",
      "source": [
        "syn=wn.synsets(\"cookbook\")[0]\n",
        "print(syn)"
      ],
      "metadata": {
        "colab": {
          "base_uri": "https://localhost:8080/"
        },
        "id": "d0xywsv3-kXO",
        "outputId": "bc330feb-1b7f-4ea0-d411-a655188d5d2b"
      },
      "execution_count": 100,
      "outputs": [
        {
          "output_type": "stream",
          "name": "stdout",
          "text": [
            "Synset('cookbook.n.01')\n"
          ]
        }
      ]
    },
    {
      "cell_type": "code",
      "source": [
        "print(syn.hypernyms())\n",
        "print(\"gives parent\")\n",
        "#print(syn.hyponyms())"
      ],
      "metadata": {
        "colab": {
          "base_uri": "https://localhost:8080/"
        },
        "id": "hNjaMdCB-0U4",
        "outputId": "fe1c1bcb-316c-4171-d64b-75740fbaa4b0"
      },
      "execution_count": 93,
      "outputs": [
        {
          "output_type": "stream",
          "name": "stdout",
          "text": [
            "[Synset('reference_book.n.01')]\n",
            "gives parent\n"
          ]
        }
      ]
    },
    {
      "cell_type": "code",
      "source": [
        "cb=wn.synset('cookbook.n.01')\n",
        "cr=wn.synset('reference_book.n.01')\n",
        "print(cb.wup_similarity(cr))"
      ],
      "metadata": {
        "colab": {
          "base_uri": "https://localhost:8080/"
        },
        "id": "cRSKJy0H-39q",
        "outputId": "7957c9ad-769f-4729-a248-a1f88a9b907d"
      },
      "execution_count": 92,
      "outputs": [
        {
          "output_type": "stream",
          "name": "stdout",
          "text": [
            "0.9565217391304348\n"
          ]
        }
      ]
    },
    {
      "cell_type": "code",
      "source": [
        "a=wn.synsets(\"animal\")[0]\n",
        "print(a)"
      ],
      "metadata": {
        "colab": {
          "base_uri": "https://localhost:8080/"
        },
        "id": "EpTQ7_58-8Ec",
        "outputId": "b7f57c6f-8877-4910-c76d-7764771a944c"
      },
      "execution_count": 94,
      "outputs": [
        {
          "output_type": "stream",
          "name": "stdout",
          "text": [
            "Synset('animal.n.01')\n"
          ]
        }
      ]
    },
    {
      "cell_type": "code",
      "source": [
        "c=wn.synsets(\"bird\")[0]\n",
        "print(c)"
      ],
      "metadata": {
        "colab": {
          "base_uri": "https://localhost:8080/"
        },
        "id": "kVDftPEn-9Uh",
        "outputId": "774f3fcf-c928-447b-cb09-2693f7b6a04e"
      },
      "execution_count": 95,
      "outputs": [
        {
          "output_type": "stream",
          "name": "stdout",
          "text": [
            "Synset('bird.n.01')\n"
          ]
        }
      ]
    },
    {
      "cell_type": "code",
      "source": [
        "b=wn.synsets(\"eagle\")[0]\n",
        "print(b)"
      ],
      "metadata": {
        "colab": {
          "base_uri": "https://localhost:8080/"
        },
        "id": "08-OtYcX-9Or",
        "outputId": "b8107867-ea51-4fb9-e6b1-2d32dbf24c32"
      },
      "execution_count": 96,
      "outputs": [
        {
          "output_type": "stream",
          "name": "stdout",
          "text": [
            "Synset('eagle.n.01')\n"
          ]
        }
      ]
    },
    {
      "cell_type": "code",
      "source": [
        "print(a.wup_similarity(b))"
      ],
      "metadata": {
        "colab": {
          "base_uri": "https://localhost:8080/"
        },
        "id": "WXvf0eMW_BIW",
        "outputId": "0e9535a9-47d1-4c67-b360-c43da8f72f1f"
      },
      "execution_count": 97,
      "outputs": [
        {
          "output_type": "stream",
          "name": "stdout",
          "text": [
            "0.7368421052631579\n"
          ]
        }
      ]
    },
    {
      "cell_type": "code",
      "source": [
        "k=wn.synset(\"entity.n.01\")\n",
        "print(k.min_depth())"
      ],
      "metadata": {
        "colab": {
          "base_uri": "https://localhost:8080/"
        },
        "id": "ESJVjMMo_DgN",
        "outputId": "8347ede3-b615-4b81-f600-1122aceba387"
      },
      "execution_count": 98,
      "outputs": [
        {
          "output_type": "stream",
          "name": "stdout",
          "text": [
            "0\n"
          ]
        }
      ]
    },
    {
      "cell_type": "code",
      "source": [
        "print(a.min_depth())\n",
        "print(c.min_depth())\n",
        "print(b.min_depth())"
      ],
      "metadata": {
        "colab": {
          "base_uri": "https://localhost:8080/"
        },
        "id": "P3U4_IxB_Da1",
        "outputId": "2fcb7e00-aaec-42a1-c937-a4f99493a6e2"
      },
      "execution_count": 99,
      "outputs": [
        {
          "output_type": "stream",
          "name": "stdout",
          "text": [
            "6\n",
            "9\n",
            "11\n"
          ]
        }
      ]
    }
  ]
}